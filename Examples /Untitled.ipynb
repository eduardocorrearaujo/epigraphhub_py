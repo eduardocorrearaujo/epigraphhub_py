{
 "cells": [
  {
   "cell_type": "markdown",
   "id": "3ba953e2",
   "metadata": {},
   "source": [
    "## Instructions to name the tables in the database\n",
    "\n",
    "Before uploading a new table in the database, the following rules should be followed:\n",
    "\n",
    "1. **All names should always be the lower case with no space between the characters. Instead of using space, use `_` to separate composite names.** \n",
    "\n",
    "This is valid for the table names, the schema names, and the names of the table columns. \n",
    "\n",
    "\n",
    "2. **Rules for the schema names:**\n",
    "\n",
    "If the table it's single country data use the full ISO country name. This name for each country of the world can be found here: \n",
    "https://gadm.org/maps.html.\n",
    "\n",
    "If the table it's global scale data use the schema: `global`.\n",
    "\n",
    "\n",
    "3. **Rules for the table names:**\n",
    "\n",
    "The table name should follow this structure:\n",
    "\n",
    "`<locality>_<semantic single word name>_<0|D|W|M>_<optional suffix>`\n",
    "\n",
    "The symbols <> are just delimiters. On PostGIS tables representing maps, a `gis` prefix can be added. \n",
    "\n",
    "The `<locality>` will be filled if the data in the table belongs to a specific region of the country. In this case, you should name the locality according to the subdivisions name that can be found in this [link](https://gadm.org/maps.html) when choosing a country. You can skip this term if the data refers to the entire region that named the schema.\n",
    "\n",
    "The `<semantic single word name>` means that the words chosen to represent the data frame must express the content of the table and not be a simple abbreviation of the content. \n",
    "\n",
    "The `<0|D|W|M>` portion informs about the periodicity of the update. It should use D for daily, W for weekly, M for monthly, and 0 for static.\n",
    "\n",
    "The Optional suffixes are: meta for metadata tables and result for analysis results\n",
    "\n",
    "4. **About the meta tables:**\n",
    "\n",
    "The meta tables should be used to contain explanatory information about columns. It should contain at least these columns but can be enlarged to include other information available on existing data dictionaries for data that is imported into the system.\n",
    "\n",
    "```\n",
    "table (\n",
    "column_name varchar 128,\n",
    "description text,\n",
    "source text,\n",
    ")\n",
    "```\n",
    "\n",
    "\n",
    "### Example:\n",
    "\n",
    "A dataset of hospitalizations from FOPH (Federal Office of Public Health) for Switzerland, which is updated daily can \n",
    "be named as: \n",
    "\n",
    "* `schema`: `switzerland`;\n",
    "\n",
    "* `table name`: `foph_hospitalizations_D`.\n",
    "\n"
   ]
  },
  {
   "cell_type": "code",
   "execution_count": null,
   "id": "2b5dafef",
   "metadata": {},
   "outputs": [],
   "source": []
  }
 ],
 "metadata": {
  "kernelspec": {
   "display_name": "Python 3 (ipykernel)",
   "language": "python",
   "name": "python3"
  },
  "language_info": {
   "codemirror_mode": {
    "name": "ipython",
    "version": 3
   },
   "file_extension": ".py",
   "mimetype": "text/x-python",
   "name": "python",
   "nbconvert_exporter": "python",
   "pygments_lexer": "ipython3",
   "version": "3.10.2"
  }
 },
 "nbformat": 4,
 "nbformat_minor": 5
}
