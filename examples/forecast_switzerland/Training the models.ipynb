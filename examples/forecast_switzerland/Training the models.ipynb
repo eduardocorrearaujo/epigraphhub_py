{
 "cells": [
  {
   "cell_type": "code",
   "execution_count": 1,
   "id": "8cf4b587",
   "metadata": {},
   "outputs": [],
   "source": [
    "import os \n",
    "os.chdir('../../')\n",
    "import matplotlib.pyplot as plt\n",
    "from epigraphhub.models.forecast_swiss import train_all_cantons"
   ]
  },
  {
   "cell_type": "code",
   "execution_count": 2,
   "id": "658693f4",
   "metadata": {},
   "outputs": [
    {
     "name": "stdout",
     "output_type": "stream",
     "text": [
      "CPU times: user 1h 47min 3s, sys: 15.5 s, total: 1h 47min 19s\n",
      "Wall time: 1h 48min 36s\n"
     ]
    }
   ],
   "source": [
    "%%time \n",
    "\n",
    "target_curve_name = 'hosp'\n",
    "predictors = ['foph_test_d', 'foph_cases_d', 'foph_hosp_d']\n",
    "ini_date = '2020-05-01'\n",
    "\n",
    "train_all_cantons(target_curve_name,\n",
    "                 predictors,\n",
    "                 ini_date = ini_date, path = './examples/forecast_switzerland/saved_models_dash')"
   ]
  },
  {
   "cell_type": "code",
   "execution_count": 5,
   "id": "5b563b55",
   "metadata": {},
   "outputs": [
    {
     "name": "stdout",
     "output_type": "stream",
     "text": [
      "CPU times: user 3h 11min 27s, sys: 31 s, total: 3h 11min 58s\n",
      "Wall time: 3h 13min 32s\n"
     ]
    }
   ],
   "source": [
    "%%time \n",
    "\n",
    "target_curve_name = 'total_hosp'\n",
    "predictors = ['foph_test_d', 'foph_cases_d', 'foph_hosp_d', 'foph_hospcapacity_d']\n",
    "ini_date = '2020-05-01'\n",
    "\n",
    "train_all_cantons(target_curve_name,\n",
    "                 predictors,\n",
    "                 ini_date = ini_date,  path = './examples/forecast_switzerland/saved_models_dash')"
   ]
  },
  {
   "cell_type": "code",
   "execution_count": 6,
   "id": "fb6797de",
   "metadata": {},
   "outputs": [
    {
     "name": "stdout",
     "output_type": "stream",
     "text": [
      "CPU times: user 2h 42min 32s, sys: 30.4 s, total: 2h 43min 2s\n",
      "Wall time: 2h 44min 14s\n"
     ]
    }
   ],
   "source": [
    "%%time \n",
    "\n",
    "target_curve_name = 'icu_patients'\n",
    "predictors = ['foph_test_d', 'foph_cases_d', 'foph_hosp_d', 'foph_hospcapacity_d']\n",
    "ini_date = '2020-05-01'\n",
    "\n",
    "train_all_cantons(target_curve_name,\n",
    "                 predictors,\n",
    "                 ini_date = ini_date,  path = './examples/forecast_switzerland/saved_models_dash')"
   ]
  },
  {
   "cell_type": "code",
   "execution_count": null,
   "id": "e152b2e9",
   "metadata": {},
   "outputs": [],
   "source": []
  }
 ],
 "metadata": {
  "kernelspec": {
   "display_name": "Python 3 (ipykernel)",
   "language": "python",
   "name": "python3"
  },
  "language_info": {
   "codemirror_mode": {
    "name": "ipython",
    "version": 3
   },
   "file_extension": ".py",
   "mimetype": "text/x-python",
   "name": "python",
   "nbconvert_exporter": "python",
   "pygments_lexer": "ipython3",
   "version": "3.9.12"
  }
 },
 "nbformat": 4,
 "nbformat_minor": 5
}
