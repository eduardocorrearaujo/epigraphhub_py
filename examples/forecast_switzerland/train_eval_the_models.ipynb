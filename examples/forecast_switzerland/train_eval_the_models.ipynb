{
 "cells": [
  {
   "cell_type": "code",
   "execution_count": 1,
   "id": "6ddcf735",
   "metadata": {},
   "outputs": [],
   "source": [
    "import os \n",
    "os.chdir('../../')\n",
    "import config \n",
    "import pandas as pd\n",
    "import matplotlib.pyplot as plt\n",
    "from sqlalchemy import create_engine\n",
    "from epigraphhub.models.plots import plot_val_ngb\n",
    "from epigraphhub.models.forecast_swiss import train_eval_single_canton, train_eval_all_cantons"
   ]
  },
  {
   "cell_type": "markdown",
   "id": "724c3f3a",
   "metadata": {},
   "source": [
    "### Computing the results for all the cantons: "
   ]
  },
  {
   "cell_type": "code",
   "execution_count": 7,
   "id": "8b925c06",
   "metadata": {},
   "outputs": [
    {
     "name": "stdout",
     "output_type": "stream",
     "text": [
      "CPU times: user 2h 2min 17s, sys: 18.6 s, total: 2h 2min 35s\n",
      "Wall time: 2h 3min 59s\n"
     ]
    }
   ],
   "source": [
    "%%time\n",
    "target_curve_name = 'icu_patients'\n",
    "predictors = ['foph_test_d', 'foph_cases_d', 'foph_hosp_d', 'foph_hospcapacity_d']\n",
    "ini_date = '2020-05-01'\n",
    "\n",
    "df_all =  train_eval_all_cantons(target_curve_name, predictors, ini_date = ini_date)"
   ]
  },
  {
   "cell_type": "code",
   "execution_count": 8,
   "id": "3698b779",
   "metadata": {},
   "outputs": [],
   "source": [
    "df_all.to_csv(f'eval_all_cantons_{target_curve_name}.csv')"
   ]
  },
  {
   "cell_type": "code",
   "execution_count": null,
   "id": "19fedc69",
   "metadata": {},
   "outputs": [],
   "source": []
  }
 ],
 "metadata": {
  "kernelspec": {
   "display_name": "Python 3 (ipykernel)",
   "language": "python",
   "name": "python3"
  },
  "language_info": {
   "codemirror_mode": {
    "name": "ipython",
    "version": 3
   },
   "file_extension": ".py",
   "mimetype": "text/x-python",
   "name": "python",
   "nbconvert_exporter": "python",
   "pygments_lexer": "ipython3",
   "version": "3.9.12"
  }
 },
 "nbformat": 4,
 "nbformat_minor": 5
}
