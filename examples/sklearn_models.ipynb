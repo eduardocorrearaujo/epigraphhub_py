{
 "cells": [
  {
   "cell_type": "markdown",
   "id": "f5c32e8c",
   "metadata": {},
   "source": [
    "### sklearn_models \n",
    "\n",
    "The functions in this module allow the application of any scikit-learn regressor model that has\n",
    "the methods .fit and .predict implemented. \n",
    "There are separate functions to train and evaluate (separate the data in train and test datasets),\n",
    "train with all the data available, and make forecasts. Also, there is the possibility to transform \n",
    "the data using methods like sklearn.preprocessing.MinMaxScaler and save the models trained. This is useful when working with sklearn models as KNN (k-nearest neighbors) or SVR (support vector regression.).  \n",
    "\n",
    "The functions whose name ends with `one` refer to those that apply just a single model. It means that to predict the next `X` days, will be trained just one model specialized in predict, give a day `D0`, the value in the day `D0 + X` using the lagged values. In this case, forecasting the next seven days, for example, will be necessary to use the last seven days of data. \n",
    "\n",
    "The functions whose name ends with `mult` refer to the functions that train multiple models to make the forecast. It means that to predict the next `X` days, will be trained `X` models, each one being specialized in predicting, give a day `D0`, the value in the day `D0 + I`, where I is in the range \\[1,`X`\\]. In this case, to forecast the next seven days, for example, it will be necessary to apply seven different models on the last day of data. \n",
    "\n",
    "Let's import the necessary packages:"
   ]
  },
  {
   "cell_type": "code",
   "execution_count": 1,
   "id": "e5139de4",
   "metadata": {},
   "outputs": [],
   "source": [
    "import os \n",
    "import pandas as pd \n",
    "import lightgbm as lgb\n",
    "import matplotlib.pyplot as plt\n",
    "os.chdir('/Users/eduardoaraujo/Documents/GitHub/epigraphhub_py')\n",
    "from epigraphhub.data.get_data import get_cluster_data, get_georegion_data\n",
    "from epigraphhub.models.sklearn_models import *\n",
    "os.chdir('/Users/eduardoaraujo/Documents/GitHub/epigraphhub_py/examples')"
   ]
  },
  {
   "cell_type": "markdown",
   "id": "085de64d",
   "metadata": {},
   "source": [
    "First, let's download a dataset from our platform to use as an example. To do this, we will use the function `get_cluster_data`. This function, by default, is configured to work well with the Switzerland covid data. In the example below, the result will be a data frame with datetime index. The columns are related to the time series of tests, cases, and hospitalizations in Geneva and your first and second order differences."
   ]
  },
  {
   "cell_type": "code",
   "execution_count": 2,
   "id": "efc52816",
   "metadata": {
    "scrolled": false
   },
   "outputs": [
    {
     "name": "stdout",
     "output_type": "stream",
     "text": [
      "CPU times: user 111 ms, sys: 14 ms, total: 125 ms\n",
      "Wall time: 10.2 s\n"
     ]
    },
    {
     "data": {
      "text/html": [
       "<div>\n",
       "<style scoped>\n",
       "    .dataframe tbody tr th:only-of-type {\n",
       "        vertical-align: middle;\n",
       "    }\n",
       "\n",
       "    .dataframe tbody tr th {\n",
       "        vertical-align: top;\n",
       "    }\n",
       "\n",
       "    .dataframe thead th {\n",
       "        text-align: right;\n",
       "    }\n",
       "</style>\n",
       "<table border=\"1\" class=\"dataframe\">\n",
       "  <thead>\n",
       "    <tr style=\"text-align: right;\">\n",
       "      <th></th>\n",
       "      <th>test_GE</th>\n",
       "      <th>diff_test_GE</th>\n",
       "      <th>diff_2_test_GE</th>\n",
       "      <th>cases_GE</th>\n",
       "      <th>diff_cases_GE</th>\n",
       "      <th>diff_2_cases_GE</th>\n",
       "      <th>hosp_GE</th>\n",
       "      <th>diff_hosp_GE</th>\n",
       "      <th>diff_2_hosp_GE</th>\n",
       "    </tr>\n",
       "    <tr>\n",
       "      <th>datum</th>\n",
       "      <th></th>\n",
       "      <th></th>\n",
       "      <th></th>\n",
       "      <th></th>\n",
       "      <th></th>\n",
       "      <th></th>\n",
       "      <th></th>\n",
       "      <th></th>\n",
       "      <th></th>\n",
       "    </tr>\n",
       "  </thead>\n",
       "  <tbody>\n",
       "    <tr>\n",
       "      <th>2020-03-01</th>\n",
       "      <td>0.000000</td>\n",
       "      <td>0.000000</td>\n",
       "      <td>0.000000</td>\n",
       "      <td>1.428571</td>\n",
       "      <td>0.142857</td>\n",
       "      <td>0.142857</td>\n",
       "      <td>0.428571</td>\n",
       "      <td>0.000000</td>\n",
       "      <td>0.000000</td>\n",
       "    </tr>\n",
       "    <tr>\n",
       "      <th>2020-03-02</th>\n",
       "      <td>0.000000</td>\n",
       "      <td>0.000000</td>\n",
       "      <td>0.000000</td>\n",
       "      <td>1.714286</td>\n",
       "      <td>0.285714</td>\n",
       "      <td>0.428571</td>\n",
       "      <td>0.428571</td>\n",
       "      <td>0.000000</td>\n",
       "      <td>0.142857</td>\n",
       "    </tr>\n",
       "    <tr>\n",
       "      <th>2020-03-03</th>\n",
       "      <td>0.000000</td>\n",
       "      <td>0.000000</td>\n",
       "      <td>0.000000</td>\n",
       "      <td>1.714286</td>\n",
       "      <td>0.000000</td>\n",
       "      <td>0.285714</td>\n",
       "      <td>0.428571</td>\n",
       "      <td>0.000000</td>\n",
       "      <td>0.000000</td>\n",
       "    </tr>\n",
       "    <tr>\n",
       "      <th>2020-03-04</th>\n",
       "      <td>0.000000</td>\n",
       "      <td>0.000000</td>\n",
       "      <td>0.000000</td>\n",
       "      <td>1.714286</td>\n",
       "      <td>0.000000</td>\n",
       "      <td>0.000000</td>\n",
       "      <td>0.571429</td>\n",
       "      <td>0.142857</td>\n",
       "      <td>0.142857</td>\n",
       "    </tr>\n",
       "    <tr>\n",
       "      <th>2020-03-05</th>\n",
       "      <td>0.000000</td>\n",
       "      <td>0.000000</td>\n",
       "      <td>0.000000</td>\n",
       "      <td>1.857143</td>\n",
       "      <td>0.142857</td>\n",
       "      <td>0.142857</td>\n",
       "      <td>0.857143</td>\n",
       "      <td>0.285714</td>\n",
       "      <td>0.428571</td>\n",
       "    </tr>\n",
       "    <tr>\n",
       "      <th>...</th>\n",
       "      <td>...</td>\n",
       "      <td>...</td>\n",
       "      <td>...</td>\n",
       "      <td>...</td>\n",
       "      <td>...</td>\n",
       "      <td>...</td>\n",
       "      <td>...</td>\n",
       "      <td>...</td>\n",
       "      <td>...</td>\n",
       "    </tr>\n",
       "    <tr>\n",
       "      <th>2022-05-06</th>\n",
       "      <td>859.000000</td>\n",
       "      <td>-8.142857</td>\n",
       "      <td>-16.142857</td>\n",
       "      <td>143.000000</td>\n",
       "      <td>-7.142857</td>\n",
       "      <td>-16.428571</td>\n",
       "      <td>4.285714</td>\n",
       "      <td>-0.285714</td>\n",
       "      <td>-0.285714</td>\n",
       "    </tr>\n",
       "    <tr>\n",
       "      <th>2022-05-07</th>\n",
       "      <td>858.000000</td>\n",
       "      <td>-1.000000</td>\n",
       "      <td>-9.142857</td>\n",
       "      <td>139.428571</td>\n",
       "      <td>-3.571429</td>\n",
       "      <td>-10.714286</td>\n",
       "      <td>3.428571</td>\n",
       "      <td>-0.857143</td>\n",
       "      <td>-1.142857</td>\n",
       "    </tr>\n",
       "    <tr>\n",
       "      <th>2022-05-08</th>\n",
       "      <td>856.285714</td>\n",
       "      <td>-1.714286</td>\n",
       "      <td>-2.714286</td>\n",
       "      <td>139.571429</td>\n",
       "      <td>0.142857</td>\n",
       "      <td>-3.428571</td>\n",
       "      <td>3.000000</td>\n",
       "      <td>-0.428571</td>\n",
       "      <td>-1.285714</td>\n",
       "    </tr>\n",
       "    <tr>\n",
       "      <th>2022-05-09</th>\n",
       "      <td>795.571429</td>\n",
       "      <td>-60.714286</td>\n",
       "      <td>-62.428571</td>\n",
       "      <td>132.428571</td>\n",
       "      <td>-7.142857</td>\n",
       "      <td>-7.000000</td>\n",
       "      <td>2.428571</td>\n",
       "      <td>-0.571429</td>\n",
       "      <td>-1.000000</td>\n",
       "    </tr>\n",
       "    <tr>\n",
       "      <th>2022-05-10</th>\n",
       "      <td>662.571429</td>\n",
       "      <td>-29.142857</td>\n",
       "      <td>-131.571429</td>\n",
       "      <td>108.714286</td>\n",
       "      <td>-23.714286</td>\n",
       "      <td>-30.857143</td>\n",
       "      <td>1.428571</td>\n",
       "      <td>-1.000000</td>\n",
       "      <td>-1.571429</td>\n",
       "    </tr>\n",
       "  </tbody>\n",
       "</table>\n",
       "<p>801 rows × 9 columns</p>\n",
       "</div>"
      ],
      "text/plain": [
       "               test_GE  diff_test_GE  diff_2_test_GE    cases_GE  \\\n",
       "datum                                                              \n",
       "2020-03-01    0.000000      0.000000        0.000000    1.428571   \n",
       "2020-03-02    0.000000      0.000000        0.000000    1.714286   \n",
       "2020-03-03    0.000000      0.000000        0.000000    1.714286   \n",
       "2020-03-04    0.000000      0.000000        0.000000    1.714286   \n",
       "2020-03-05    0.000000      0.000000        0.000000    1.857143   \n",
       "...                ...           ...             ...         ...   \n",
       "2022-05-06  859.000000     -8.142857      -16.142857  143.000000   \n",
       "2022-05-07  858.000000     -1.000000       -9.142857  139.428571   \n",
       "2022-05-08  856.285714     -1.714286       -2.714286  139.571429   \n",
       "2022-05-09  795.571429    -60.714286      -62.428571  132.428571   \n",
       "2022-05-10  662.571429    -29.142857     -131.571429  108.714286   \n",
       "\n",
       "            diff_cases_GE  diff_2_cases_GE   hosp_GE  diff_hosp_GE  \\\n",
       "datum                                                                \n",
       "2020-03-01       0.142857         0.142857  0.428571      0.000000   \n",
       "2020-03-02       0.285714         0.428571  0.428571      0.000000   \n",
       "2020-03-03       0.000000         0.285714  0.428571      0.000000   \n",
       "2020-03-04       0.000000         0.000000  0.571429      0.142857   \n",
       "2020-03-05       0.142857         0.142857  0.857143      0.285714   \n",
       "...                   ...              ...       ...           ...   \n",
       "2022-05-06      -7.142857       -16.428571  4.285714     -0.285714   \n",
       "2022-05-07      -3.571429       -10.714286  3.428571     -0.857143   \n",
       "2022-05-08       0.142857        -3.428571  3.000000     -0.428571   \n",
       "2022-05-09      -7.142857        -7.000000  2.428571     -0.571429   \n",
       "2022-05-10     -23.714286       -30.857143  1.428571     -1.000000   \n",
       "\n",
       "            diff_2_hosp_GE  \n",
       "datum                       \n",
       "2020-03-01        0.000000  \n",
       "2020-03-02        0.142857  \n",
       "2020-03-03        0.000000  \n",
       "2020-03-04        0.142857  \n",
       "2020-03-05        0.428571  \n",
       "...                    ...  \n",
       "2022-05-06       -0.285714  \n",
       "2022-05-07       -1.142857  \n",
       "2022-05-08       -1.285714  \n",
       "2022-05-09       -1.000000  \n",
       "2022-05-10       -1.571429  \n",
       "\n",
       "[801 rows x 9 columns]"
      ]
     },
     "execution_count": 2,
     "metadata": {},
     "output_type": "execute_result"
    }
   ],
   "source": [
    "%%time\n",
    "df = get_cluster_data('switzerland', ['foph_test_d', 'foph_cases_d', 'foph_hosp_d'], ['GE'], vaccine = False)\n",
    "\n",
    "df"
   ]
  },
  {
   "cell_type": "markdown",
   "id": "594b73d2",
   "metadata": {},
   "source": [
    "To learn how to use the functions, let's use the function defined below called `lgbm_model` to create an LGBM regressor model. If you want to use other parameters in this function, you should put them in a dictionary and pass them in the parameter `params`. "
   ]
  },
  {
   "cell_type": "code",
   "execution_count": 3,
   "id": "9b7125ea",
   "metadata": {},
   "outputs": [],
   "source": [
    "def lgbm_model(params=None):\n",
    "    '''\n",
    "    Return an LGBM model\n",
    "    :param params: parameters of the LGBM model. \n",
    "    :return: LGBMRegressor model\n",
    "    '''\n",
    "    if params is None:\n",
    "        params = {\n",
    "            'n_jobs': 8,\n",
    "            'max_depth': 4,\n",
    "            'max_bin': 63,\n",
    "            'num_leaves': 255,\n",
    "#             'min_data_in_leaf': 1,\n",
    "            'subsample': 0.9,\n",
    "            'n_estimators': 200,\n",
    "            'tree_learner': 'feature', \n",
    "            'learning_rate': 0.1,\n",
    "            'colsample_bytree': 0.9,\n",
    "            'boosting_type': 'gbdt'\n",
    "        }\n",
    "\n",
    "\n",
    "    model = lgb.LGBMRegressor(objective='regression', **params)\n",
    "\n",
    "    return model "
   ]
  },
  {
   "cell_type": "markdown",
   "id": "7d6da625",
   "metadata": {},
   "source": [
    "Let's define the model below:"
   ]
  },
  {
   "cell_type": "code",
   "execution_count": 4,
   "id": "798225fe",
   "metadata": {},
   "outputs": [],
   "source": [
    "model = lgbm_model() "
   ]
  },
  {
   "cell_type": "markdown",
   "id": "a1a4a8d4",
   "metadata": {},
   "source": [
    "### Function  `rolling_predictions_one()`:\n",
    "\n",
    "\n",
    "This function train one model trained to predict the X + {horizon_forecast} day. \n",
    "\n",
    "This function has the following parameters: \n",
    "    \n",
    "* `model`: model to apply in the data. It should be passed a model compatible with the sklearn .fit and .predict methods;  \n",
    "* `target_name`: Name of the target column. This column should belong to the dataset `data`. Type = `string`;\n",
    "* `data`: Dataframe with features and target column. Type= `pandas dataframe`;\n",
    "* `ini_date`: Determines the beginning of the training dataset. Type = `string`;\n",
    "* `split`: Determines which percentage of the data will be used to train the model. Type = `float`. Default = 0.75;\n",
    "* `horizon_forecast`: Determines the number of days that will be predicted. Type = `int`. Default = 14;\n",
    "* `max_lag`: Determines the number of the last days used as features to forecast the next days. Type = `int`. Default = 14;\n",
    "* `norm`: decide if the data will be normalized. Type = 'boolean'. Default = False;\n",
    "* `norm_model_x`: model to normalize the features. Default = MinMaxScaler();\n",
    "* `norm_model_y`: model to normalize the targets. Default = MinMaxScaler();\n",
    "* `save`: decides if the models will be save. Type = `boolean`. Default = False;  \n",
    "* `path`: decides in which folder the models will be saved. Type = `string|None`. If None it will be saved in the current directory;\n",
    "* `label`: add a different name annotation for the  models saved. Type = `string`. Default = 'test'. \n",
    "\n",
    "By default the model is saved as:\n",
    "* `trained_model_norm_{label}_{horizon_forecast}D.joblib` (when norm == True);\n",
    "* `trained_model_{label}_{horizon_forecast}D.jobli` (when norm == False).\n",
    "\n",
    "If `norm = True`, it's also necessary to save the models used to normalize the features and targets. In this case, these models are saved as: \n",
    "* `features_norm_{label}.joblib`, for the `norm_model_x` (just applied and saved when norm == True);\n",
    "* `target_norm_{label}D.joblib`, for the `norm_model_y` (just applied and saved when norm == True).\n",
    "\n",
    "and the returns:\n",
    "* `df_pred`: DataFrame with the target values and the predictions. The data frame has the following columns: `target`, with the values used to train and test the model, \t`predict`, with the predicted values and `train_size`, with the number of target observations used to train the model. The dataframe also have a datetime index. Type: `pandas Dataframe`;\n",
    "* `model`: the trained and tested model;\n",
    "* `scx`: If norm = True, this represents the model used to normalize the features. Otherwise the return is None;\n",
    "* `scy`: If norm = True, this represents the model used to normalize the targets. Otherwise the return is None. \n",
    "\n",
    "\n",
    "Let's use this function to predict the values in the `hosp_GE` column:"
   ]
  },
  {
   "cell_type": "code",
   "execution_count": 5,
   "id": "00b5a790",
   "metadata": {},
   "outputs": [
    {
     "name": "stdout",
     "output_type": "stream",
     "text": [
      "CPU times: user 582 ms, sys: 61.5 ms, total: 643 ms\n",
      "Wall time: 111 ms\n"
     ]
    }
   ],
   "source": [
    "%%time\n",
    "target_name = 'hosp_GE'\n",
    "df_pred_one, models_one, scx_one, scy_one = rolling_predictions_one(\n",
    "    model, target_name,\n",
    "    df, ini_date=\"2020-03-01\",\n",
    "    split=0.75, horizon_forecast=14, maxlag=14,\n",
    "    norm = True, norm_model_x =  MinMaxScaler(),\n",
    "    norm_model_y =  MinMaxScaler(), \n",
    "    save = False, path = None, label= 'test')"
   ]
  },
  {
   "cell_type": "markdown",
   "id": "786abbbf",
   "metadata": {},
   "source": [
    "To plot the results obtained in the variable `df_pred_one` let's use the function explained below:"
   ]
  },
  {
   "cell_type": "markdown",
   "id": "9765351a",
   "metadata": {},
   "source": [
    "### Function  `plot_predicted_vs_data()`:\n",
    "\n",
    "This function can be used to plot the data frame with the predictions obtained in the `rolling_predictions_one()` or `rolling_predictions_mult()` function. The function has the following parameters: \n",
    "\n",
    "* `df_pred`. It's a pandas Dataframe obtained in the function `rolling_predictions()`. Type = `pandas Dataframe`;\n",
    "* `title`. It's the string that will be used as the plot's title. Type = `string`. Default = 'Ngboost predictions';\n",
    "* `save`. If `True`, the plot will be saved. Type = `boolean`. Default = False;\n",
    "* `filename` It's the string with the name that will be used to save the plot. Type = `string`. Default = 'ngboost_pred';\n",
    "* `path`. decides in which folder the plot will be saved. Type = `string|None`. If None it will be saved in the current directory;\n",
    "\n",
    "The return is None. \n"
   ]
  },
  {
   "cell_type": "code",
   "execution_count": 6,
   "id": "5803e114",
   "metadata": {},
   "outputs": [
    {
     "data": {
      "image/png": "[encoded data removed]",
      "text/plain": [
       "<Figure size 432x288 with 1 Axes>"
      ]
     },
     "metadata": {
      "needs_background": "light"
     },
     "output_type": "display_data"
    }
   ],
   "source": [
    "plot_predicted_vs_data(df_pred_one, title = 'LGBM predictions')"
   ]
  },
  {
   "cell_type": "markdown",
   "id": "b830339e",
   "metadata": {},
   "source": [
    "### Function  `training_model_one()`:\n",
    "\n",
    "To train one model with all the data available and save it, we can use the `training_model_one()` function.\n",
    "\n",
    "This function has the following parameters: \n",
    "\n",
    "* `model`: model to apply in the data. It should be passed a model compatible with the sklearn .fit and .predict methods;  \n",
    "* `target_name`: Name of the target column. This column should belong to the dataset `data`. Type = `string`;\n",
    "* `data`: Dataframe with features and target column. Type= `pandas dataframe`;\n",
    "* `ini_date`: Determines the beginning of the training dataset. Type = `string`;\n",
    "* `split`: Determines which percentage of the data will be used to train the model. Type = `float`. Default = 0.75;\n",
    "* `horizon_forecast`: Determines the number of days that will be predicted. Type = `int`. Default = 14;\n",
    "* `max_lag`: Determines the number of the last days used as features to forecast the next days. Type = `int`. Default = 14;\n",
    "* `norm`: decide if the data will be normalized. Type = 'boolean'. Default = False;\n",
    "* `norm_model_x`: model to normalize the features. Default = MinMaxScaler();\n",
    "* `norm_model_y`: model to normalize the targets. Default = MinMaxScaler();\n",
    "* `save`: decides if the models will be save. Type = `boolean`. Default = False;  \n",
    "* `path`: decides in which folder the models will be saved. Type = `string|None`. If None it will be saved in the current directory;\n",
    "* `label`: add a different name annotation for the  models saved. Type = `string`. Default = 'test'. \n",
    "\n",
    "By default the model is saved as:\n",
    "* `trained_model_norm_{label}_{horizon_forecast}D.joblib` (when norm == True);\n",
    "* `trained_model_{label}_{horizon_forecast}D.jobli` (when norm == False).\n",
    "\n",
    "If `norm = True`, it's also necessary to save the models used to normalize the features and targets. In this case, these models are saved as: \n",
    "* `features_norm_{label}.joblib`, for the `norm_model_x` (just applied and saved when norm == True);\n",
    "* `target_norm_{label}D.joblib`, for the `norm_model_y` (just applied and saved when norm == True).\n",
    "\n",
    "and the returns:\n",
    "* `model`: the trained and tested model;\n",
    "* `scx`: If norm = True, this represents the model used to normalize the features. Otherwise the return is None;\n",
    "* `scy`: If norm = True, this represents the model used to normalize the targets. Otherwise the return is None. \n",
    "\n",
    "\n",
    "Let's train a model with all the data available in the cell below:"
   ]
  },
  {
   "cell_type": "code",
   "execution_count": 7,
   "id": "89d0f6b6",
   "metadata": {},
   "outputs": [],
   "source": [
    "trained_model, trained_scx, trained_scy = training_model_one(\n",
    "    model,\n",
    "    target_name,\n",
    "    df,\n",
    "    ini_date=\"2020-03-01\",\n",
    "    horizon_forecast=14,\n",
    "    maxlag=14,\n",
    "    norm_model_x =  MinMaxScaler(), norm_model_y =  MinMaxScaler(),  norm = False,\n",
    "    save = True, path = 'saved_sklearn_models',  label= 'lgbm_one')"
   ]
  },
  {
   "cell_type": "markdown",
   "id": "32998f92",
   "metadata": {},
   "source": [
    "### Function `rolling_forecast_one()`:\n",
    "\n",
    "This function forecasts a time series using, like features, the last observation of the `data` param and the **saved** models trained with `training_model_one()`. The `horizon_forecast` and `maxlag` parameters should be the same used in the `training_model_one()`. \n",
    "\n",
    "This function will return a Dataframe with the following columns: `lower`, with the lower value of the confidence interval of the predictions,`median` with the median values of the predictions,\t`upper`, with the upper value of the confidence interval, and a datetime index.\n",
    "\n",
    "This function has the following parameters:\n",
    "\n",
    "* `target_name` Name of the target column, this column should belong to the dataset data. Type = string;\n",
    "* `data`: Dataframe with features and target column. Type= pandas Dataframe;\n",
    "* `horizon_forecast`:  Determines the number of days that will be predicted. Type = `int`. Default = 14;\n",
    "* `maxlag`: Determines the number of the last days used as features to forecast the next days. Type = `int`. Default = 14;\n",
    "* `path`: decides in which folder the models will be saved. Type = `string|None`. If None it will be saved in the current directory. Default=\"../opt/models/saved_models/ml\".\n",
    "\n",
    "and the returns:\n",
    "\n",
    "* `df_for`: DataFrame with the forecasted values. T he data frame has only the column `forecast`, with the forecasted value.The dataframe also have a datetime index. Type: `pandas Dataframe`;\n",
    "\n",
    "Let's apply the forecast using the trained model saved in the `path = 'saved_sklearn_models'`."
   ]
  },
  {
   "cell_type": "code",
   "execution_count": 8,
   "id": "942bc099",
   "metadata": {},
   "outputs": [],
   "source": [
    "df_for = rolling_forecast_one(target_name,df, horizon_forecast = 14, maxlag = 14, norm = False, path = 'saved_sklearn_models', label= 'lgbm_one')"
   ]
  },
  {
   "cell_type": "code",
   "execution_count": 9,
   "id": "45421428",
   "metadata": {
    "scrolled": true
   },
   "outputs": [
    {
     "data": {
      "text/plain": [
       "14"
      ]
     },
     "execution_count": 9,
     "metadata": {},
     "output_type": "execute_result"
    }
   ],
   "source": [
    "df_for.shape[0]"
   ]
  },
  {
   "cell_type": "markdown",
   "id": "7dae7732",
   "metadata": {},
   "source": [
    "To plot the results obtained in the variable `df_for` let's use the function explained below:\n",
    "\n",
    "### Function  `plot_forecast()`:\n",
    "\n",
    "This function can be used to plot the data frame with the forecast obtained in the `rolling_forecast()` function. It's also necessary to provide a dataset with the data before the forecasted values (the same dataset provided in the `data` parameter of the `rolling_forecast()` function). The function has the following parameters: \n",
    "\n",
    "* `df`: It's a pandas Dataframe with the data used to make the forecast. Type = `pandas dataframe`. \n",
    "  \n",
    "* `target_name`: Name of the target column forecasted. Type = `string`. \n",
    "\n",
    "* `df_for`: It's a dataframe  with the forecasted values, it's must have the following columns: lower, median, upper and a datetime index. Type = `pandas Dataframe`.  \n",
    "                    \n",
    "* `last_values`: Number of last values of the df show in the plot. Type = `int`. Default = 90. \n",
    "          \n",
    "* `title`: This string is used as the plot's title. Type = `string`. Default = `Ngboost forecast`. \n",
    " \n",
    "* `save`: If true the plot is saved. Type = `boolean`. Default = False\n",
    "    \n",
    "* `filename`: Name of the png file where the plot is saved. Type = `string`. Default = `ngboost_forecast`.  \n",
    "    \n",
    "* `path`: Path where the figure must be saved. If None the figure is saved in the current directory. Type = `string|None`. Default = None. \n",
    "\n",
    "The return is None. \n"
   ]
  },
  {
   "cell_type": "code",
   "execution_count": 10,
   "id": "8843c28e",
   "metadata": {},
   "outputs": [
    {
     "data": {
      "image/png": "[encoded data removed]",
      "text/plain": [
       "<Figure size 432x288 with 1 Axes>"
      ]
     },
     "metadata": {
      "needs_background": "light"
     },
     "output_type": "display_data"
    }
   ],
   "source": [
    "plot_forecast(df, target_name, df_for, last_values = 90, title = 'Forecast', save = False, filename = 'forecast', path = None)"
   ]
  },
  {
   "cell_type": "markdown",
   "id": "fdca2934",
   "metadata": {},
   "source": [
    "### Function  `rolling_predictions_mult()`:\n",
    "\n",
    "\n",
    "This function train `horizon_forecast` models. Each model is trained to predict the value in the X + {T} day, being T in the range \\[1, horizon_forecast\\]. \n",
    "\n",
    "This function has the following parameters: \n",
    "    \n",
    "* `model`: model to apply in the data. It should be passed a model compatible with the sklearn methods.  \n",
    "* `target_name`: Name of the target column. This column should belong to the dataset `data`. Type = `string`;\n",
    "* `data`: Dataframe with features and target column. Type= `pandas dataframe`;\n",
    "* `ini_date`: Determines the beginning of the training dataset. Type = `string`;\n",
    "* `split`: Determines which percentage of the data will be used to train the model. Type = `float`. Default = 'split';\n",
    "* `horizon_forecast`: Determines the number of days that will be predicted. Type = `int`. Default = 14;\n",
    "* `max_lag`: Determines the number of the last days used as features to forecast the next days. Type = `int`. Default = 14;\n",
    "* `norm`: decide if the data will be normalized. Type = 'boolean'. Default = False.  \n",
    "* `norm_model_x`: model to normalize the features. Default = MinMaxScaler()\n",
    "* `norm_model_y`: model to normalize the targets. Default = MinMaxScaler()\n",
    "* `save`: decides if the models will be save. Type = `boolean`.  \n",
    "* `path`: decides in which folder the models will be saved. Type = `string`\n",
    "* `label`: add a different name annotation for the  models saved. Type = `string`. Default = 'test'. \n",
    "\n",
    "By default the models trained are saved as:\n",
    "* 'trained_model_norm_{label}_{T}D.joblib' (when norm == True)\n",
    "* 'trained_model_{label}_{T}D.joblib' (when norm == False)\n",
    "\n",
    "for each T in the range \\[1, horizon_forecast\\]. \n",
    "\n",
    "If `norm = True`, it's also necessary to save the models used to normalize the features and targets. In this case, this model are saved as: \n",
    "* 'feature_norm_{label}.joblib', for the `norm_model_x` (just applied and saved when norm == True)\n",
    "* 'target_norm_{label}_{T}D.joblib', for the `norm_model_y` (just applied and saved when norm == True)\n",
    "for each T in the range \\[1, horizon_forecast\\]. \n",
    "\n",
    "and the returns:\n",
    "* df_pred. DataFrame with the target values and the predictions. The data frame has the following columns: `target`, with the values used to train and test the model, \t`predict`, with the predicted values and `train_size`, with the number of target observations used to train the model. The dataframe also has a datetime index. Type: `pandas Dataframe`.\n",
    "* model: dictionary with the models trained. The key value is the number of days ahead that the model was trained to predict. Type:`dictionary`. \n",
    "* scx: If norm = True, this represents the model used to normalize the features. Otherwise, the return is None. \n",
    "* dict_scy: If norm = True, this represents the dictionary with the models used to normalize the targets. Otherwise, the return is an empty dictionary. \n"
   ]
  },
  {
   "cell_type": "code",
   "execution_count": 11,
   "id": "84845338",
   "metadata": {},
   "outputs": [],
   "source": [
    "model = lgbm_model() \n",
    "\n",
    "target_name = 'hosp_GE'\n",
    "\n",
    "df_pred_mult, models_mult, scx_mult, dict_scy_mult = rolling_predictions_mult(\n",
    "    model, target_name,\n",
    "    df, ini_date=\"2020-03-01\",\n",
    "    split=0.75, horizon_forecast=14, maxlag=14,\n",
    "    norm = True, norm_model_x =  MinMaxScaler(),\n",
    "    norm_model_y =  MinMaxScaler(), \n",
    "    save = False, path = None, label= 'test')"
   ]
  },
  {
   "cell_type": "markdown",
   "id": "89218a46",
   "metadata": {},
   "source": [
    "We can plot the result obtained above used the `plot_predicted_vs_data` function. \n"
   ]
  },
  {
   "cell_type": "code",
   "execution_count": 12,
   "id": "f8baff9b",
   "metadata": {},
   "outputs": [
    {
     "data": {
      "image/png": "[encoded data removed]",
      "text/plain": [
       "<Figure size 432x288 with 1 Axes>"
      ]
     },
     "metadata": {
      "needs_background": "light"
     },
     "output_type": "display_data"
    }
   ],
   "source": [
    "plot_predicted_vs_data(df_pred_mult, title = 'LGBM predictions')"
   ]
  },
  {
   "cell_type": "markdown",
   "id": "017d6534",
   "metadata": {},
   "source": [
    "### Function  `training_model_mult()`:\n",
    "\n",
    "We can use the `training_model_mult()` function to train multiple models with all the available data and save it.\n",
    "\n",
    "This function has the following parameters: \n",
    "\n",
    "* `model`: a model to apply in the data. It should be passed a model compatible with the sklearn methods.  \n",
    "* `target_name`: Name of the target column. This column should belong to the dataset `data`. Type = `string`;\n",
    "* `data`: Dataframe with features and target column. Type= `pandas dataframe`;\n",
    "* `ini_date`: Determines the beginning of the training dataset. Type = `string`;\n",
    "* `horizon_forecast`: Determines the number of days that will be predicted. Type = `int`. Default = 14;\n",
    "* `max_lag`: Determines the number of the last days used as features to forecast the next days. Type = `int`. Default = 14;\n",
    "* `norm`: decide if the data will be normalized. Type = 'boolean'. Default = False.  \n",
    "* `norm_model_x`: model to normalize the features. Default = MinMaxScaler()\n",
    "* `norm_model_y`: model to normalize the targets. Default = MinMaxScaler()\n",
    "* `save`: decides if the models will be saved. Type = `boolean`.  \n",
    "* `path`: decides in which folder the models will be saved. Type = `string`\n",
    "* `label`: add a different name annotation for the  models saved. Type = `string`. Default = 'test'. \n",
    "\n",
    "By default the models trained are saved as:\n",
    "* 'trained_model_norm_{label}_{T}D.joblib' (when norm == True)\n",
    "* 'trained_model_{label}_{T}D.joblib' (when norm == False)\n",
    "\n",
    "for each T in the range \\[1, horizon_forecast\\]. \n",
    "\n",
    "If `norm = True`, it's also necessary to save the models used to normalize the features and targets. In this case, this model are saved as: \n",
    "* 'feature_norm_{label}.joblib', for the `norm_model_x` (just applied and saved when norm == True)\n",
    "* 'target_norm_{label}_{T}D.joblib', for the `norm_model_y` (just applied and saved when norm == True)\n",
    "for each T in the range \\[1, horizon_forecast\\]. \n",
    "\n",
    "and the returns:\n",
    "* model: dictionary with the models trained. The key value is the number of days ahead that the model was trained to predict. Type:`dictionary`. \n",
    "* scx: If norm = True, this represents the model used to normalize the features. Otherwise, the return is None. \n",
    "* dict_scy: If norm = True, this represents the dictionary with the models used to normalize the targets. Otherwise, the return is an empty dictionary. \n",
    "\n",
    "\n",
    "Let's train multiple models with all the data available in the cell below:"
   ]
  },
  {
   "cell_type": "code",
   "execution_count": 13,
   "id": "24a6c93d",
   "metadata": {},
   "outputs": [],
   "source": [
    "trained_model_mult, scx_mult, scy_mult = training_model_mult(\n",
    "    model,\n",
    "    target_name,\n",
    "    df,\n",
    "    ini_date=\"2020-03-01\",\n",
    "    horizon_forecast=14,\n",
    "    maxlag=14,\n",
    "    norm_model_x =  MinMaxScaler(), norm_model_y =  MinMaxScaler(),  norm = False,\n",
    "    save = True, path = 'saved_sklearn_models',  label= 'lgbm_mult')\n"
   ]
  },
  {
   "cell_type": "markdown",
   "id": "3ade17d8",
   "metadata": {},
   "source": [
    "### Function `rolling_forecast_mult()`:\n",
    "\n",
    "This function forecasts a time series using, like features, the last observation of the `data` param and the **saved** models trained with `training_model_mult()`. The `horizon_forecast` and `maxlag` parameters should be the same used in the `training_model_mult()`. \n",
    "\n",
    "This function will return a Dataframe with the following columns: `lower`, with the lower value of the confidence interval of the predictions,`median` with the median values of the predictions,\t`upper`, with the upper value of the confidence interval, and a datetime index.\n",
    "\n",
    "This function has the following parameters:\n",
    "\n",
    "* `target_name` Name of the target column, this column should belong to the dataset data. Type = string;\n",
    "* `data`: Dataframe with features and target column. Type= pandas Dataframe;\n",
    "* `horizon_forecast`:  Determines the number of days that will be predicted. Type = `int`. Default = 14;\n",
    "* `maxlag`: Determines the number of the last days used as features to forecast the next days. Type = `int`. Default = 14;\n",
    "* `path`: decides in which folder the models will be saved. Type = `string|None`. If None it will be saved in the current directory. Default=\"../opt/models/saved_models/ml\".\n",
    "\n",
    "and the returns:\n",
    "\n",
    "* `df_for`: DataFrame with the forecasted values. T he data frame has only the column `forecast`, with the forecasted value.The dataframe also have a datetime index. Type: `pandas Dataframe`;\n",
    "\n",
    "Let's apply the forecast using the trained model saved in the `path = 'saved_sklearn_models'` and saved with the label `lgbm_mult`."
   ]
  },
  {
   "cell_type": "code",
   "execution_count": 14,
   "id": "c7a29159",
   "metadata": {},
   "outputs": [],
   "source": [
    "df_for = rolling_forecast_mult(\n",
    "    target_name,\n",
    "    df,\n",
    "    horizon_forecast = 14,\n",
    "    maxlag = 14,\n",
    "    norm = False,\n",
    "    path = 'saved_sklearn_models',\n",
    "    label= 'lgbm_mult')\n",
    "    "
   ]
  },
  {
   "cell_type": "markdown",
   "id": "4d72f94f",
   "metadata": {},
   "source": [
    "To plot the results obtained in the variable `df_for` let's use the function explained below:"
   ]
  },
  {
   "cell_type": "code",
   "execution_count": 15,
   "id": "6776c1b2",
   "metadata": {},
   "outputs": [
    {
     "data": {
      "image/png": "[encoded data removed]",
      "text/plain": [
       "<Figure size 432x288 with 1 Axes>"
      ]
     },
     "metadata": {
      "needs_background": "light"
     },
     "output_type": "display_data"
    }
   ],
   "source": [
    "plot_forecast(df, target_name, df_for, last_values = 90, title = 'Forecast', save = False, filename = 'forecast', path = None)"
   ]
  },
  {
   "cell_type": "code",
   "execution_count": null,
   "id": "5a9e347d",
   "metadata": {},
   "outputs": [],
   "source": []
  }
 ],
 "metadata": {
  "kernelspec": {
   "display_name": "Python 3 (ipykernel)",
   "language": "python",
   "name": "python3"
  },
  "language_info": {
   "codemirror_mode": {
    "name": "ipython",
    "version": 3
   },
   "file_extension": ".py",
   "mimetype": "text/x-python",
   "name": "python",
   "nbconvert_exporter": "python",
   "pygments_lexer": "ipython3",
   "version": "3.10.4"
  }
 },
 "nbformat": 4,
 "nbformat_minor": 5
}
