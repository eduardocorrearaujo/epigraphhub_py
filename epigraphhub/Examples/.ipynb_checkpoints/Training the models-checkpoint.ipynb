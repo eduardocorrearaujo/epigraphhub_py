{
 "cells": [
  {
   "cell_type": "code",
   "execution_count": 1,
   "id": "21704b14",
   "metadata": {},
   "outputs": [],
   "source": [
    "import os \n",
    "os.chdir('/Users/eduardoaraujo/Documents/GitHub/epigraphhub_py')\n",
    "#from epigraphhub.data.get_data import get_cluster_data, get_georegion_data\n",
    "#from epigraphhub.analysis.clustering import compute_clusters\n",
    "from epigraphhub.models.ngboost_models import *\n",
    "#from ngboost.learners import default_tree_learner\n",
    "os.chdir('/Users/eduardoaraujo/Desktop')"
   ]
  },
  {
   "cell_type": "code",
   "execution_count": null,
   "id": "5293107a",
   "metadata": {},
   "outputs": [],
   "source": [
    "%%time \n",
    "\n",
    "target_curve_name = 'hosp'\n",
    "predictors = ['foph_test', 'foph_cases', 'foph_hosp', 'foph_hospcapacity']\n",
    "ini_date = '2020-04-01'\n",
    "\n",
    "train_all_cantons(target_curve_name,\n",
    "                 predictors,\n",
    "                 ini_date = ini_date)"
   ]
  }
 ],
 "metadata": {
  "kernelspec": {
   "display_name": "Python 3 (ipykernel)",
   "language": "python",
   "name": "python3"
  },
  "language_info": {
   "codemirror_mode": {
    "name": "ipython",
    "version": 3
   },
   "file_extension": ".py",
   "mimetype": "text/x-python",
   "name": "python",
   "nbconvert_exporter": "python",
   "pygments_lexer": "ipython3",
   "version": "3.10.2"
  }
 },
 "nbformat": 4,
 "nbformat_minor": 5
}
